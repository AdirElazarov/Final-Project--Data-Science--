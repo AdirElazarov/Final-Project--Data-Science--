{
 "cells": [
  {
   "cell_type": "code",
   "execution_count": 317,
   "metadata": {},
   "outputs": [],
   "source": [
    "import requests\n",
    "from bs4 import BeautifulSoup\n",
    "import pandas as pd\n",
    "import os\n",
    "import time"
   ]
  },
  {
   "cell_type": "code",
   "execution_count": 318,
   "metadata": {},
   "outputs": [],
   "source": [
    "base_link = \"https://www.themoviedb.org/movie\""
   ]
  },
  {
   "cell_type": "code",
   "execution_count": null,
   "metadata": {},
   "outputs": [],
   "source": []
  },
  {
   "cell_type": "code",
   "execution_count": 319,
   "metadata": {},
   "outputs": [],
   "source": [
    "needed_headers = {'User-Agent': \"Mozilla/5.0 (Windows NT 6.3; Win64; x64) AppleWebKit/537.36 (KHTML, like Gecko) Chrome/92.0.4515.131 Safari/537.36\"}\n",
    "response = requests.get(\"https://www.themoviedb.org/movie\", headers = needed_headers )"
   ]
  },
  {
   "cell_type": "code",
   "execution_count": 320,
   "metadata": {},
   "outputs": [
    {
     "data": {
      "text/plain": [
       "200"
      ]
     },
     "execution_count": 320,
     "metadata": {},
     "output_type": "execute_result"
    }
   ],
   "source": [
    "response.status_code"
   ]
  },
  {
   "cell_type": "code",
   "execution_count": 321,
   "metadata": {},
   "outputs": [
    {
     "data": {
      "text/plain": [
       "195373"
      ]
     },
     "execution_count": 321,
     "metadata": {},
     "output_type": "execute_result"
    }
   ],
   "source": [
    "dwn_content = response.text\n",
    "len(dwn_content)"
   ]
  },
  {
   "cell_type": "code",
   "execution_count": 322,
   "metadata": {},
   "outputs": [],
   "source": [
    "test_doc = BeautifulSoup(response.text, 'html.parser')"
   ]
  },
  {
   "cell_type": "code",
   "execution_count": 323,
   "metadata": {},
   "outputs": [
    {
     "data": {
      "text/plain": [
       "<title>Popular Movies — The Movie Database (TMDB)</title>"
      ]
     },
     "execution_count": 323,
     "metadata": {},
     "output_type": "execute_result"
    }
   ],
   "source": [
    "test_doc.find('title')"
   ]
  },
  {
   "cell_type": "code",
   "execution_count": 324,
   "metadata": {},
   "outputs": [
    {
     "data": {
      "text/plain": [
       "<img alt=\"The Movie Database (TMDB)\" height=\"20\" src=\"/assets/2/v4/logos/v2/blue_short-8e7b30f73a4020692ccca9c88bafe5dcb6f8a62a4c6bc55cd9ba82bb2cd95f6c.svg\" width=\"154\"/>"
      ]
     },
     "execution_count": 324,
     "metadata": {},
     "output_type": "execute_result"
    }
   ],
   "source": [
    "test_doc.find('img')"
   ]
  },
  {
   "cell_type": "code",
   "execution_count": 325,
   "metadata": {},
   "outputs": [],
   "source": [
    "def cols_dict():\n",
    "    dic = {  \n",
    "            'genres': [],\n",
    "            'language': [], \n",
    "            'title': [], \n",
    "            'rating': [],\n",
    "            'runtime': [],\n",
    "            'cast': [],\n",
    "            'release_date': [],\n",
    "            'director': [],\n",
    "            'Revenue' : [],\n",
    "            'Budget': [],\n",
    "            'Keywords': [],\n",
    "            'type': []\n",
    "          }\n",
    "    return dic"
   ]
  },
  {
   "cell_type": "code",
   "execution_count": 326,
   "metadata": {},
   "outputs": [],
   "source": [
    "def get_page_content(url):\n",
    "    # In this case , we are going to give request.get function headers to avoid the Status code Error 403\n",
    "\n",
    "    get_headers = {'User-Agent': \"Mozilla/5.0 (Windows NT 6.3; Win64; x64) AppleWebKit/537.36 (KHTML, like Gecko) Chrome/92.0.4515.131 Safari/537.36\"}\n",
    "    response_page = requests.get(url, headers = get_headers )\n",
    "    # we are going to raise exception here if status code gives any value other than 200.\n",
    "    if not response_page.ok:\n",
    "        raise Exception (\"Failed to request the data. Status Code:- {}\".format(response_page.status_code))\n",
    "    else:\n",
    "        page_content = response_page.text\n",
    "        doc_page = BeautifulSoup(page_content, \"html.parser\")\n",
    "        return doc_page"
   ]
  },
  {
   "cell_type": "code",
   "execution_count": 327,
   "metadata": {},
   "outputs": [],
   "source": [
    "def get_genres(doc2):\n",
    "    tag_genre = doc2.find('span', {\"class\": \"genres\"})\n",
    "    tag_genre_list = tag_genre.find_all('a')\n",
    "\n",
    "    check_genre =[]\n",
    "    for tag in tag_genre_list:\n",
    "        check_genre.append(tag.text)\n",
    "\n",
    "    return check_genre"
   ]
  },
  {
   "cell_type": "code",
   "execution_count": 328,
   "metadata": {},
   "outputs": [],
   "source": [
    "def get_cast(doc2_page):\n",
    "    cast_tags = doc2_page.find_all('li', {'class': 'card'})\n",
    "    cast_lis = []\n",
    "    \n",
    "    for t in cast_tags:\n",
    "         cast_lis.append(t.p.text)\n",
    "    \n",
    "    return cast_lis"
   ]
  },
  {
   "cell_type": "code",
   "execution_count": 329,
   "metadata": {},
   "outputs": [],
   "source": [
    "def get_Keywords(doc3_page):\n",
    "    Keywords_tags = doc3_page.find('section', {'class': 'keywords right_column'})\n",
    "    Keywords_list = Keywords_tags.find_all('a')\n",
    "    \n",
    "    check_Keywords = []\n",
    "    for t in Keywords_list:\n",
    "         check_Keywords.append(t.text)\n",
    "    \n",
    "    return Keywords_list"
   ]
  },
  {
   "cell_type": "code",
   "execution_count": 330,
   "metadata": {},
   "outputs": [],
   "source": [
    "def get_Keywords(doc3_page):\n",
    "    Keywords_tags = doc3_page.find('section', {'class': 'keywords right_column'})\n",
    "    Keywords_list = Keywords_tags.find_all('a')\n",
    "    \n",
    "    check_Keywords = []\n",
    "    for t in Keywords_list:\n",
    "         check_Keywords.append(t.text)\n",
    "    \n",
    "    return Keywords_list"
   ]
  },
  {
   "cell_type": "code",
   "execution_count": 331,
   "metadata": {},
   "outputs": [
    {
     "name": "stdout",
     "output_type": "stream",
     "text": [
      "Wall time: 2h 21min 25s\n"
     ]
    }
   ],
   "source": [
    "%%time\n",
    "url_address = base_link\n",
    "\n",
    "dic =  cols_dict()\n",
    "for j in range(1,501):\n",
    "    next_url = url_address + '?page={}'.format(j)\n",
    "    get_headers = {'User-Agent': \"Mozilla/5.0 (Windows NT 6.3; Win64; x64) AppleWebKit/537.36 (KHTML, like Gecko) Chrome/92.0.4515.131 Safari/537.36\"}\n",
    "    response_page = requests.get(next_url, headers = get_headers )\n",
    "    # we are going to raise exception here if status code gives any value other than 200.\n",
    "    if not response_page.ok:\n",
    "        print('page: ',j, \"Failed to request the data. Status Code:- {}\".format(response_page.status_code))\n",
    "    else:\n",
    "        page_content = response_page.text\n",
    "        doc = BeautifulSoup(page_content, \"html.parser\")\n",
    "    \n",
    "        number_of_movies = len(doc.find_all('div', {'class': 'card style_1'}))\n",
    "        for i in range(number_of_movies): \n",
    "\n",
    "            try:\n",
    "                dic['title'].append(doc.find_all('div', {'class': 'card style_1'})[i].h2.text)\n",
    "            except AttributeError:\n",
    "                dic['title'].append('nan')\n",
    "\n",
    "            try:\n",
    "                dic['rating'].append(doc.find_all('div', {\"user_score_chart\"})[i]['data-percent'])\n",
    "            except AttributeError:\n",
    "                dic['rating'].append('nan')\n",
    "\n",
    "            try:\n",
    "                dic['release_date'].append(doc.find_all('div', {'class': 'card style_1'})[i].p.text)\n",
    "            except AttributeError:\n",
    "                dic['release_date'].append('nan')\n",
    "\n",
    "            movie_url = base_link[:-6] + doc.find_all('div', {'class': 'card style_1'})[i].h2.a['href']\n",
    "            movie_page = get_page_content(movie_url)\n",
    "\n",
    "            dic['genres'].append(get_genres(movie_page))\n",
    "            dic['cast'].append(get_cast(movie_page))\n",
    "            dic['Keywords'].append(get_Keywords(movie_page))\n",
    "            dic['type'].append('movie')\n",
    "                \n",
    "            try:\n",
    "                dic['runtime'].append(movie_page.find('span', {\"class\": \"runtime\"}).text[16:-12])\n",
    "            except AttributeError:\n",
    "                dic['runtime'].append('nan')\n",
    "\n",
    "            try:\n",
    "                dic['Revenue'].append(movie_page.find('section', {\"class\": \"facts left_column\"}).select(\"p:nth-of-type(4)\")[0].text)\n",
    "            except AttributeError:\n",
    "                dic['Revenue'].append('nan')\n",
    "                \n",
    "            try:\n",
    "                dic['language'].append(movie_page.find('section', {\"class\": \"facts left_column\"}).select(\"p:nth-of-type(2)\")[0].text)\n",
    "            except AttributeError:\n",
    "                dic['language'].append('nan')\n",
    "                \n",
    "            try:\n",
    "                dic['director'].append(movie_page.find('li', {'class':'profile'}).a.get_text())\n",
    "            except AttributeError:\n",
    "                dic['director'].append('nan')\n",
    "                \n",
    "            try:\n",
    "                dic['Budget'].append(movie_page.find('section', {\"class\": \"facts left_column\"}).select(\"p:nth-of-type(3)\")[0].text)\n",
    "            except AttributeError:\n",
    "                dic['Budget'].append('nan')\n",
    "    "
   ]
  },
  {
   "cell_type": "code",
   "execution_count": 332,
   "metadata": {},
   "outputs": [
    {
     "data": {
      "text/plain": [
       "(500, 19)"
      ]
     },
     "execution_count": 332,
     "metadata": {},
     "output_type": "execute_result"
    }
   ],
   "source": [
    "j,i"
   ]
  },
  {
   "cell_type": "code",
   "execution_count": 333,
   "metadata": {},
   "outputs": [],
   "source": [
    "df_00 = pd.DataFrame({k:pd.Series(v) for k,v in dic.items()})"
   ]
  },
  {
   "cell_type": "code",
   "execution_count": 334,
   "metadata": {},
   "outputs": [
    {
     "name": "stdout",
     "output_type": "stream",
     "text": [
      "<class 'pandas.core.frame.DataFrame'>\n",
      "RangeIndex: 10000 entries, 0 to 9999\n",
      "Data columns (total 12 columns):\n",
      " #   Column        Non-Null Count  Dtype \n",
      "---  ------        --------------  ----- \n",
      " 0   genres        10000 non-null  object\n",
      " 1   language      10000 non-null  object\n",
      " 2   title         10000 non-null  object\n",
      " 3   rating        10000 non-null  object\n",
      " 4   runtime       10000 non-null  object\n",
      " 5   cast          10000 non-null  object\n",
      " 6   release_date  10000 non-null  object\n",
      " 7   director      10000 non-null  object\n",
      " 8   Revenue       10000 non-null  object\n",
      " 9   Budget        10000 non-null  object\n",
      " 10  Keywords      10000 non-null  object\n",
      " 11  type          10000 non-null  object\n",
      "dtypes: object(12)\n",
      "memory usage: 937.6+ KB\n"
     ]
    }
   ],
   "source": [
    "df_00.info()"
   ]
  },
  {
   "cell_type": "code",
   "execution_count": 335,
   "metadata": {},
   "outputs": [
    {
     "data": {
      "text/html": [
       "<div>\n",
       "<style scoped>\n",
       "    .dataframe tbody tr th:only-of-type {\n",
       "        vertical-align: middle;\n",
       "    }\n",
       "\n",
       "    .dataframe tbody tr th {\n",
       "        vertical-align: top;\n",
       "    }\n",
       "\n",
       "    .dataframe thead th {\n",
       "        text-align: right;\n",
       "    }\n",
       "</style>\n",
       "<table border=\"1\" class=\"dataframe\">\n",
       "  <thead>\n",
       "    <tr style=\"text-align: right;\">\n",
       "      <th></th>\n",
       "      <th>genres</th>\n",
       "      <th>language</th>\n",
       "      <th>title</th>\n",
       "      <th>rating</th>\n",
       "      <th>runtime</th>\n",
       "      <th>cast</th>\n",
       "      <th>release_date</th>\n",
       "      <th>director</th>\n",
       "      <th>Revenue</th>\n",
       "      <th>Budget</th>\n",
       "      <th>Keywords</th>\n",
       "      <th>type</th>\n",
       "    </tr>\n",
       "  </thead>\n",
       "  <tbody>\n",
       "    <tr>\n",
       "      <th>0</th>\n",
       "      <td>[Action, Adventure, Science Fiction]</td>\n",
       "      <td>Original Language English</td>\n",
       "      <td>Spider-Man: No Way Home</td>\n",
       "      <td>85.0</td>\n",
       "      <td>2h 28m</td>\n",
       "      <td>[Tom Holland, Zendaya, Benedict Cumberbatch, J...</td>\n",
       "      <td>Dec 15, 2021</td>\n",
       "      <td>Stan Lee</td>\n",
       "      <td>Revenue $1,694,026,010.00</td>\n",
       "      <td>Budget $200,000,000.00</td>\n",
       "      <td>[[hero], [comic book], [superhero], [based on ...</td>\n",
       "      <td>movie</td>\n",
       "    </tr>\n",
       "    <tr>\n",
       "      <th>1</th>\n",
       "      <td>[Action, Adventure, Fantasy, Science Fiction]</td>\n",
       "      <td>Original Language English</td>\n",
       "      <td>Eternals</td>\n",
       "      <td>73.0</td>\n",
       "      <td>2h 36m</td>\n",
       "      <td>[Gemma Chan, Richard Madden, Angelina Jolie, K...</td>\n",
       "      <td>Nov 03, 2021</td>\n",
       "      <td>Chloé Zhao</td>\n",
       "      <td>Revenue $401,972,153.00</td>\n",
       "      <td>Budget $200,000,000.00</td>\n",
       "      <td>[[boredom], [supernatural], [superhero], [base...</td>\n",
       "      <td>movie</td>\n",
       "    </tr>\n",
       "    <tr>\n",
       "      <th>2</th>\n",
       "      <td>[Animation, Family, Fantasy, Comedy, Adventure]</td>\n",
       "      <td>Original Language English</td>\n",
       "      <td>Hotel Transylvania: Transformania</td>\n",
       "      <td>77.0</td>\n",
       "      <td>1h 27m</td>\n",
       "      <td>[Selena Gomez, Andy Samberg, Kathryn Hahn, Jim...</td>\n",
       "      <td>Jan 13, 2022</td>\n",
       "      <td>Genndy Tartakovsky</td>\n",
       "      <td>Revenue -</td>\n",
       "      <td>Budget -</td>\n",
       "      <td>[[vampire]]</td>\n",
       "      <td>movie</td>\n",
       "    </tr>\n",
       "    <tr>\n",
       "      <th>3</th>\n",
       "      <td>[Animation, Comedy, Family, Fantasy]</td>\n",
       "      <td>Original Language English</td>\n",
       "      <td>Encanto</td>\n",
       "      <td>78.0</td>\n",
       "      <td>1h 42m</td>\n",
       "      <td>[Stephanie Beatriz, María Cecilia Botero, John...</td>\n",
       "      <td>Nov 24, 2021</td>\n",
       "      <td>Jared Bush</td>\n",
       "      <td>Revenue $228,000,000.00</td>\n",
       "      <td>Budget $50,000,000.00</td>\n",
       "      <td>[[magic], [musical], [forest], [family relatio...</td>\n",
       "      <td>movie</td>\n",
       "    </tr>\n",
       "    <tr>\n",
       "      <th>4</th>\n",
       "      <td>[Horror, Action, Science Fiction]</td>\n",
       "      <td>Original Language English</td>\n",
       "      <td>Resident Evil: Welcome to Raccoon City</td>\n",
       "      <td>61.0</td>\n",
       "      <td>1h 47m</td>\n",
       "      <td>[Kaya Scodelario, Robbie Amell, Hannah John-Ka...</td>\n",
       "      <td>Nov 24, 2021</td>\n",
       "      <td>Johannes Roberts</td>\n",
       "      <td>Revenue $31,000,000.00</td>\n",
       "      <td>Budget $40,000,000.00</td>\n",
       "      <td>[[mutant], [biological weapon], [quarantine], ...</td>\n",
       "      <td>movie</td>\n",
       "    </tr>\n",
       "    <tr>\n",
       "      <th>...</th>\n",
       "      <td>...</td>\n",
       "      <td>...</td>\n",
       "      <td>...</td>\n",
       "      <td>...</td>\n",
       "      <td>...</td>\n",
       "      <td>...</td>\n",
       "      <td>...</td>\n",
       "      <td>...</td>\n",
       "      <td>...</td>\n",
       "      <td>...</td>\n",
       "      <td>...</td>\n",
       "      <td>...</td>\n",
       "    </tr>\n",
       "    <tr>\n",
       "      <th>9995</th>\n",
       "      <td>[Horror, Mystery, Thriller]</td>\n",
       "      <td>Original Language English</td>\n",
       "      <td>Cherry Falls</td>\n",
       "      <td>51.0</td>\n",
       "      <td>1h 32m</td>\n",
       "      <td>[Brittany Murphy, Jay Mohr, Michael Biehn, Jes...</td>\n",
       "      <td>Aug 25, 2000</td>\n",
       "      <td>Geoffrey Wright</td>\n",
       "      <td>Revenue -</td>\n",
       "      <td>Budget -</td>\n",
       "      <td>[[rape], [small town], [virgin], [psychopath],...</td>\n",
       "      <td>movie</td>\n",
       "    </tr>\n",
       "    <tr>\n",
       "      <th>9996</th>\n",
       "      <td>[Horror, Thriller]</td>\n",
       "      <td>Original Language English</td>\n",
       "      <td>Inside</td>\n",
       "      <td>52.0</td>\n",
       "      <td>1h 25m</td>\n",
       "      <td>[Rachel Nichols, Laura Harring, Ben Temple, Gi...</td>\n",
       "      <td>Feb 14, 2016</td>\n",
       "      <td>Miguel Ángel Vivas</td>\n",
       "      <td>Revenue -</td>\n",
       "      <td>Budget -</td>\n",
       "      <td>[[remake]]</td>\n",
       "      <td>movie</td>\n",
       "    </tr>\n",
       "    <tr>\n",
       "      <th>9997</th>\n",
       "      <td>[Action]</td>\n",
       "      <td>\\nStatus Released\\n</td>\n",
       "      <td>Cutie Honey: Tears</td>\n",
       "      <td>56.0</td>\n",
       "      <td>1h 32m</td>\n",
       "      <td>[Mariya Nishiuchi, Takahiro Miura, Nicole Ishi...</td>\n",
       "      <td>Oct 01, 2016</td>\n",
       "      <td>Takeshi Asai</td>\n",
       "      <td>Budget -</td>\n",
       "      <td>Original Language Japanese</td>\n",
       "      <td>[[fight], [based on manga], [battle], [cutie h...</td>\n",
       "      <td>movie</td>\n",
       "    </tr>\n",
       "    <tr>\n",
       "      <th>9998</th>\n",
       "      <td>[Adventure, Fantasy, Comedy]</td>\n",
       "      <td>Original Language English</td>\n",
       "      <td>Erik the Viking</td>\n",
       "      <td>59.0</td>\n",
       "      <td>1h 47m</td>\n",
       "      <td>[Tim Robbins, Mickey Rooney, Eartha Kitt, Terr...</td>\n",
       "      <td>Sep 01, 1989</td>\n",
       "      <td>Terry Jones</td>\n",
       "      <td>Revenue -</td>\n",
       "      <td>Budget -</td>\n",
       "      <td>[[norway], [viking], [based on children's book...</td>\n",
       "      <td>movie</td>\n",
       "    </tr>\n",
       "    <tr>\n",
       "      <th>9999</th>\n",
       "      <td>[Comedy, Thriller, Crime, Action]</td>\n",
       "      <td>Original Language English</td>\n",
       "      <td>The Man Who Knew Too Little</td>\n",
       "      <td>63.0</td>\n",
       "      <td>1h 37m</td>\n",
       "      <td>[Bill Murray, Peter Gallagher, Joanne Whalley,...</td>\n",
       "      <td>Nov 14, 1997</td>\n",
       "      <td>Jon Amiel</td>\n",
       "      <td>Revenue $13,801,755.00</td>\n",
       "      <td>Budget $20,000,000.00</td>\n",
       "      <td>[[london, england], [bomb], [sibling relations...</td>\n",
       "      <td>movie</td>\n",
       "    </tr>\n",
       "  </tbody>\n",
       "</table>\n",
       "<p>10000 rows × 12 columns</p>\n",
       "</div>"
      ],
      "text/plain": [
       "                                               genres  \\\n",
       "0                [Action, Adventure, Science Fiction]   \n",
       "1       [Action, Adventure, Fantasy, Science Fiction]   \n",
       "2     [Animation, Family, Fantasy, Comedy, Adventure]   \n",
       "3                [Animation, Comedy, Family, Fantasy]   \n",
       "4                   [Horror, Action, Science Fiction]   \n",
       "...                                               ...   \n",
       "9995                      [Horror, Mystery, Thriller]   \n",
       "9996                               [Horror, Thriller]   \n",
       "9997                                         [Action]   \n",
       "9998                     [Adventure, Fantasy, Comedy]   \n",
       "9999                [Comedy, Thriller, Crime, Action]   \n",
       "\n",
       "                       language                                   title  \\\n",
       "0     Original Language English                 Spider-Man: No Way Home   \n",
       "1     Original Language English                                Eternals   \n",
       "2     Original Language English       Hotel Transylvania: Transformania   \n",
       "3     Original Language English                                 Encanto   \n",
       "4     Original Language English  Resident Evil: Welcome to Raccoon City   \n",
       "...                         ...                                     ...   \n",
       "9995  Original Language English                            Cherry Falls   \n",
       "9996  Original Language English                                  Inside   \n",
       "9997      \\nStatus Released\\n                        Cutie Honey: Tears   \n",
       "9998  Original Language English                         Erik the Viking   \n",
       "9999  Original Language English             The Man Who Knew Too Little   \n",
       "\n",
       "     rating runtime                                               cast  \\\n",
       "0      85.0  2h 28m  [Tom Holland, Zendaya, Benedict Cumberbatch, J...   \n",
       "1      73.0  2h 36m  [Gemma Chan, Richard Madden, Angelina Jolie, K...   \n",
       "2      77.0  1h 27m  [Selena Gomez, Andy Samberg, Kathryn Hahn, Jim...   \n",
       "3      78.0  1h 42m  [Stephanie Beatriz, María Cecilia Botero, John...   \n",
       "4      61.0  1h 47m  [Kaya Scodelario, Robbie Amell, Hannah John-Ka...   \n",
       "...     ...     ...                                                ...   \n",
       "9995   51.0  1h 32m  [Brittany Murphy, Jay Mohr, Michael Biehn, Jes...   \n",
       "9996   52.0  1h 25m  [Rachel Nichols, Laura Harring, Ben Temple, Gi...   \n",
       "9997   56.0  1h 32m  [Mariya Nishiuchi, Takahiro Miura, Nicole Ishi...   \n",
       "9998   59.0  1h 47m  [Tim Robbins, Mickey Rooney, Eartha Kitt, Terr...   \n",
       "9999   63.0  1h 37m  [Bill Murray, Peter Gallagher, Joanne Whalley,...   \n",
       "\n",
       "      release_date            director                    Revenue  \\\n",
       "0     Dec 15, 2021            Stan Lee  Revenue $1,694,026,010.00   \n",
       "1     Nov 03, 2021          Chloé Zhao    Revenue $401,972,153.00   \n",
       "2     Jan 13, 2022  Genndy Tartakovsky                  Revenue -   \n",
       "3     Nov 24, 2021          Jared Bush    Revenue $228,000,000.00   \n",
       "4     Nov 24, 2021    Johannes Roberts     Revenue $31,000,000.00   \n",
       "...            ...                 ...                        ...   \n",
       "9995  Aug 25, 2000     Geoffrey Wright                  Revenue -   \n",
       "9996  Feb 14, 2016  Miguel Ángel Vivas                  Revenue -   \n",
       "9997  Oct 01, 2016        Takeshi Asai                   Budget -   \n",
       "9998  Sep 01, 1989         Terry Jones                  Revenue -   \n",
       "9999  Nov 14, 1997           Jon Amiel     Revenue $13,801,755.00   \n",
       "\n",
       "                          Budget  \\\n",
       "0         Budget $200,000,000.00   \n",
       "1         Budget $200,000,000.00   \n",
       "2                       Budget -   \n",
       "3          Budget $50,000,000.00   \n",
       "4          Budget $40,000,000.00   \n",
       "...                          ...   \n",
       "9995                    Budget -   \n",
       "9996                    Budget -   \n",
       "9997  Original Language Japanese   \n",
       "9998                    Budget -   \n",
       "9999       Budget $20,000,000.00   \n",
       "\n",
       "                                               Keywords   type  \n",
       "0     [[hero], [comic book], [superhero], [based on ...  movie  \n",
       "1     [[boredom], [supernatural], [superhero], [base...  movie  \n",
       "2                                           [[vampire]]  movie  \n",
       "3     [[magic], [musical], [forest], [family relatio...  movie  \n",
       "4     [[mutant], [biological weapon], [quarantine], ...  movie  \n",
       "...                                                 ...    ...  \n",
       "9995  [[rape], [small town], [virgin], [psychopath],...  movie  \n",
       "9996                                         [[remake]]  movie  \n",
       "9997  [[fight], [based on manga], [battle], [cutie h...  movie  \n",
       "9998  [[norway], [viking], [based on children's book...  movie  \n",
       "9999  [[london, england], [bomb], [sibling relations...  movie  \n",
       "\n",
       "[10000 rows x 12 columns]"
      ]
     },
     "execution_count": 335,
     "metadata": {},
     "output_type": "execute_result"
    }
   ],
   "source": [
    "df_00"
   ]
  },
  {
   "cell_type": "code",
   "execution_count": 336,
   "metadata": {},
   "outputs": [],
   "source": [
    "df_00.to_csv('movies_all.csv', index =False)"
   ]
  },
  {
   "cell_type": "code",
   "execution_count": null,
   "metadata": {},
   "outputs": [],
   "source": []
  },
  {
   "cell_type": "code",
   "execution_count": 337,
   "metadata": {},
   "outputs": [
    {
     "data": {
      "text/plain": [
       "(10000, 12)"
      ]
     },
     "execution_count": 337,
     "metadata": {},
     "output_type": "execute_result"
    }
   ],
   "source": [
    "df_01 = pd.read_csv('movies_all.csv')\n",
    "df_01.shape"
   ]
  },
  {
   "cell_type": "code",
   "execution_count": 338,
   "metadata": {},
   "outputs": [
    {
     "data": {
      "text/html": [
       "<div>\n",
       "<style scoped>\n",
       "    .dataframe tbody tr th:only-of-type {\n",
       "        vertical-align: middle;\n",
       "    }\n",
       "\n",
       "    .dataframe tbody tr th {\n",
       "        vertical-align: top;\n",
       "    }\n",
       "\n",
       "    .dataframe thead th {\n",
       "        text-align: right;\n",
       "    }\n",
       "</style>\n",
       "<table border=\"1\" class=\"dataframe\">\n",
       "  <thead>\n",
       "    <tr style=\"text-align: right;\">\n",
       "      <th></th>\n",
       "      <th>genres</th>\n",
       "      <th>language</th>\n",
       "      <th>title</th>\n",
       "      <th>rating</th>\n",
       "      <th>runtime</th>\n",
       "      <th>cast</th>\n",
       "      <th>release_date</th>\n",
       "      <th>director</th>\n",
       "      <th>Revenue</th>\n",
       "      <th>Budget</th>\n",
       "      <th>Keywords</th>\n",
       "      <th>type</th>\n",
       "    </tr>\n",
       "  </thead>\n",
       "  <tbody>\n",
       "    <tr>\n",
       "      <th>0</th>\n",
       "      <td>['Action', 'Adventure', 'Science Fiction']</td>\n",
       "      <td>Original Language English</td>\n",
       "      <td>Spider-Man: No Way Home</td>\n",
       "      <td>85.0</td>\n",
       "      <td>2h 28m</td>\n",
       "      <td>['Tom Holland', 'Zendaya', 'Benedict Cumberbat...</td>\n",
       "      <td>Dec 15, 2021</td>\n",
       "      <td>Stan Lee</td>\n",
       "      <td>Revenue $1,694,026,010.00</td>\n",
       "      <td>Budget $200,000,000.00</td>\n",
       "      <td>[&lt;a href=\"/keyword/1701-hero/movie\"&gt;hero&lt;/a&gt;, ...</td>\n",
       "      <td>movie</td>\n",
       "    </tr>\n",
       "    <tr>\n",
       "      <th>1</th>\n",
       "      <td>['Action', 'Adventure', 'Fantasy', 'Science Fi...</td>\n",
       "      <td>Original Language English</td>\n",
       "      <td>Eternals</td>\n",
       "      <td>73.0</td>\n",
       "      <td>2h 36m</td>\n",
       "      <td>['Gemma Chan', 'Richard Madden', 'Angelina Jol...</td>\n",
       "      <td>Nov 03, 2021</td>\n",
       "      <td>Chloé Zhao</td>\n",
       "      <td>Revenue $401,972,153.00</td>\n",
       "      <td>Budget $200,000,000.00</td>\n",
       "      <td>[&lt;a href=\"/keyword/3925-boredom/movie\"&gt;boredom...</td>\n",
       "      <td>movie</td>\n",
       "    </tr>\n",
       "    <tr>\n",
       "      <th>2</th>\n",
       "      <td>['Animation', 'Family', 'Fantasy', 'Comedy', '...</td>\n",
       "      <td>Original Language English</td>\n",
       "      <td>Hotel Transylvania: Transformania</td>\n",
       "      <td>77.0</td>\n",
       "      <td>1h 27m</td>\n",
       "      <td>['Selena Gomez', 'Andy Samberg', 'Kathryn Hahn...</td>\n",
       "      <td>Jan 13, 2022</td>\n",
       "      <td>Genndy Tartakovsky</td>\n",
       "      <td>Revenue -</td>\n",
       "      <td>Budget -</td>\n",
       "      <td>[&lt;a href=\"/keyword/3133-vampire/movie\"&gt;vampire...</td>\n",
       "      <td>movie</td>\n",
       "    </tr>\n",
       "    <tr>\n",
       "      <th>3</th>\n",
       "      <td>['Animation', 'Comedy', 'Family', 'Fantasy']</td>\n",
       "      <td>Original Language English</td>\n",
       "      <td>Encanto</td>\n",
       "      <td>78.0</td>\n",
       "      <td>1h 42m</td>\n",
       "      <td>['Stephanie Beatriz', 'María Cecilia Botero', ...</td>\n",
       "      <td>Nov 24, 2021</td>\n",
       "      <td>Jared Bush</td>\n",
       "      <td>Revenue $228,000,000.00</td>\n",
       "      <td>Budget $50,000,000.00</td>\n",
       "      <td>[&lt;a href=\"/keyword/2343-magic/movie\"&gt;magic&lt;/a&gt;...</td>\n",
       "      <td>movie</td>\n",
       "    </tr>\n",
       "    <tr>\n",
       "      <th>4</th>\n",
       "      <td>['Horror', 'Action', 'Science Fiction']</td>\n",
       "      <td>Original Language English</td>\n",
       "      <td>Resident Evil: Welcome to Raccoon City</td>\n",
       "      <td>61.0</td>\n",
       "      <td>1h 47m</td>\n",
       "      <td>['Kaya Scodelario', 'Robbie Amell', 'Hannah Jo...</td>\n",
       "      <td>Nov 24, 2021</td>\n",
       "      <td>Johannes Roberts</td>\n",
       "      <td>Revenue $31,000,000.00</td>\n",
       "      <td>Budget $40,000,000.00</td>\n",
       "      <td>[&lt;a href=\"/keyword/1852-mutant/movie\"&gt;mutant&lt;/...</td>\n",
       "      <td>movie</td>\n",
       "    </tr>\n",
       "  </tbody>\n",
       "</table>\n",
       "</div>"
      ],
      "text/plain": [
       "                                              genres  \\\n",
       "0         ['Action', 'Adventure', 'Science Fiction']   \n",
       "1  ['Action', 'Adventure', 'Fantasy', 'Science Fi...   \n",
       "2  ['Animation', 'Family', 'Fantasy', 'Comedy', '...   \n",
       "3       ['Animation', 'Comedy', 'Family', 'Fantasy']   \n",
       "4            ['Horror', 'Action', 'Science Fiction']   \n",
       "\n",
       "                    language                                   title  rating  \\\n",
       "0  Original Language English                 Spider-Man: No Way Home    85.0   \n",
       "1  Original Language English                                Eternals    73.0   \n",
       "2  Original Language English       Hotel Transylvania: Transformania    77.0   \n",
       "3  Original Language English                                 Encanto    78.0   \n",
       "4  Original Language English  Resident Evil: Welcome to Raccoon City    61.0   \n",
       "\n",
       "  runtime                                               cast  release_date  \\\n",
       "0  2h 28m  ['Tom Holland', 'Zendaya', 'Benedict Cumberbat...  Dec 15, 2021   \n",
       "1  2h 36m  ['Gemma Chan', 'Richard Madden', 'Angelina Jol...  Nov 03, 2021   \n",
       "2  1h 27m  ['Selena Gomez', 'Andy Samberg', 'Kathryn Hahn...  Jan 13, 2022   \n",
       "3  1h 42m  ['Stephanie Beatriz', 'María Cecilia Botero', ...  Nov 24, 2021   \n",
       "4  1h 47m  ['Kaya Scodelario', 'Robbie Amell', 'Hannah Jo...  Nov 24, 2021   \n",
       "\n",
       "             director                    Revenue                  Budget  \\\n",
       "0            Stan Lee  Revenue $1,694,026,010.00  Budget $200,000,000.00   \n",
       "1          Chloé Zhao    Revenue $401,972,153.00  Budget $200,000,000.00   \n",
       "2  Genndy Tartakovsky                  Revenue -                Budget -   \n",
       "3          Jared Bush    Revenue $228,000,000.00   Budget $50,000,000.00   \n",
       "4    Johannes Roberts     Revenue $31,000,000.00   Budget $40,000,000.00   \n",
       "\n",
       "                                            Keywords   type  \n",
       "0  [<a href=\"/keyword/1701-hero/movie\">hero</a>, ...  movie  \n",
       "1  [<a href=\"/keyword/3925-boredom/movie\">boredom...  movie  \n",
       "2  [<a href=\"/keyword/3133-vampire/movie\">vampire...  movie  \n",
       "3  [<a href=\"/keyword/2343-magic/movie\">magic</a>...  movie  \n",
       "4  [<a href=\"/keyword/1852-mutant/movie\">mutant</...  movie  "
      ]
     },
     "execution_count": 338,
     "metadata": {},
     "output_type": "execute_result"
    }
   ],
   "source": [
    "df_01.head()"
   ]
  },
  {
   "cell_type": "code",
   "execution_count": null,
   "metadata": {},
   "outputs": [],
   "source": []
  }
 ],
 "metadata": {
  "kernelspec": {
   "display_name": "Python 3",
   "language": "python",
   "name": "python3"
  },
  "language_info": {
   "codemirror_mode": {
    "name": "ipython",
    "version": 3
   },
   "file_extension": ".py",
   "mimetype": "text/x-python",
   "name": "python",
   "nbconvert_exporter": "python",
   "pygments_lexer": "ipython3",
   "version": "3.8.8"
  },
  "toc": {
   "base_numbering": 1,
   "nav_menu": {},
   "number_sections": true,
   "sideBar": true,
   "skip_h1_title": false,
   "title_cell": "Table of Contents",
   "title_sidebar": "Contents",
   "toc_cell": false,
   "toc_position": {},
   "toc_section_display": true,
   "toc_window_display": false
  }
 },
 "nbformat": 4,
 "nbformat_minor": 4
}
