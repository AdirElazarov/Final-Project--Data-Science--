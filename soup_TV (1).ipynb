{
 "cells": [
  {
   "cell_type": "code",
   "execution_count": 1,
   "metadata": {},
   "outputs": [],
   "source": [
    "import requests\n",
    "from bs4 import BeautifulSoup\n",
    "import pandas as pd\n",
    "import os\n",
    "import time"
   ]
  },
  {
   "cell_type": "code",
   "execution_count": 2,
   "metadata": {},
   "outputs": [],
   "source": [
    "base_link = \"https://www.themoviedb.org/tv\""
   ]
  },
  {
   "cell_type": "code",
   "execution_count": 3,
   "metadata": {},
   "outputs": [],
   "source": [
    "needed_headers = {'User-Agent': \"Mozilla/5.0 (Windows NT 6.3; Win64; x64) AppleWebKit/537.36 (KHTML, like Gecko) Chrome/92.0.4515.131 Safari/537.36\"}\n",
    "response = requests.get(\"https://www.themoviedb.org/movie\", headers = needed_headers )"
   ]
  },
  {
   "cell_type": "code",
   "execution_count": 4,
   "metadata": {},
   "outputs": [
    {
     "data": {
      "text/plain": [
       "200"
      ]
     },
     "execution_count": 4,
     "metadata": {},
     "output_type": "execute_result"
    }
   ],
   "source": [
    "response.status_code"
   ]
  },
  {
   "cell_type": "code",
   "execution_count": 5,
   "metadata": {},
   "outputs": [
    {
     "data": {
      "text/plain": [
       "195421"
      ]
     },
     "execution_count": 5,
     "metadata": {},
     "output_type": "execute_result"
    }
   ],
   "source": [
    "dwn_content = response.text\n",
    "len(dwn_content)"
   ]
  },
  {
   "cell_type": "code",
   "execution_count": 6,
   "metadata": {},
   "outputs": [],
   "source": [
    "test_doc = BeautifulSoup(response.text, 'html.parser')"
   ]
  },
  {
   "cell_type": "code",
   "execution_count": 7,
   "metadata": {},
   "outputs": [
    {
     "data": {
      "text/plain": [
       "<title>Popular Movies — The Movie Database (TMDB)</title>"
      ]
     },
     "execution_count": 7,
     "metadata": {},
     "output_type": "execute_result"
    }
   ],
   "source": [
    "test_doc.find('title')"
   ]
  },
  {
   "cell_type": "code",
   "execution_count": 8,
   "metadata": {},
   "outputs": [
    {
     "data": {
      "text/plain": [
       "<img alt=\"The Movie Database (TMDB)\" height=\"20\" src=\"/assets/2/v4/logos/v2/blue_short-8e7b30f73a4020692ccca9c88bafe5dcb6f8a62a4c6bc55cd9ba82bb2cd95f6c.svg\" width=\"154\"/>"
      ]
     },
     "execution_count": 8,
     "metadata": {},
     "output_type": "execute_result"
    }
   ],
   "source": [
    "test_doc.find('img')"
   ]
  },
  {
   "cell_type": "code",
   "execution_count": 9,
   "metadata": {},
   "outputs": [],
   "source": [
    "def cols_dict():\n",
    "    dic = {  \n",
    "            'title': [],\n",
    "            'rating': [], \n",
    "            'release_date':[], \n",
    "            'language': [],\n",
    "            'current_season': [],\n",
    "            'current_season_Episodes': [], \n",
    "            'runtime': [],\n",
    "            'director': [],\n",
    "            'genre': [],\n",
    "            'cast': [],\n",
    "            'Keywords': [],\n",
    "            'type': []\n",
    "          }\n",
    "    return dic"
   ]
  },
  {
   "cell_type": "code",
   "execution_count": 10,
   "metadata": {},
   "outputs": [],
   "source": [
    "def get_page_content(url):\n",
    "    # In this case , we are going to give request.get function headers to avoid the Status code Error 403\n",
    "\n",
    "    get_headers = {'User-Agent': \"Mozilla/5.0 (Windows NT 6.3; Win64; x64) AppleWebKit/537.36 (KHTML, like Gecko) Chrome/92.0.4515.131 Safari/537.36\"}\n",
    "    response_page = requests.get(url, headers = get_headers )\n",
    "    # we are going to raise exception here if status code gives any value other than 200.\n",
    "    if not response_page.ok:\n",
    "        raise Exception (\"Failed to request the data. Status Code:- {}\".format(response_page.status_code))\n",
    "    else:\n",
    "        page_content = response_page.text\n",
    "        doc_page = BeautifulSoup(page_content, \"html.parser\")\n",
    "        return doc_page"
   ]
  },
  {
   "cell_type": "code",
   "execution_count": 11,
   "metadata": {},
   "outputs": [],
   "source": [
    "def get_genres(doc2):\n",
    "    tag_genre = doc2.find('span', {\"class\": \"genres\"})\n",
    "    tag_genre_list = tag_genre.find_all('a')\n",
    "\n",
    "    check_genre =[]\n",
    "    for tag in tag_genre_list:\n",
    "        check_genre.append(tag.text)\n",
    "\n",
    "    return check_genre"
   ]
  },
  {
   "cell_type": "code",
   "execution_count": 12,
   "metadata": {},
   "outputs": [],
   "source": [
    "def get_cast(doc2_page):\n",
    "    cast_tags = doc2_page.find_all('li', {'class': 'card'})\n",
    "    cast_lis = []\n",
    "    \n",
    "    for t in cast_tags:\n",
    "         cast_lis.append(t.p.text)\n",
    "    \n",
    "    return cast_lis"
   ]
  },
  {
   "cell_type": "code",
   "execution_count": 13,
   "metadata": {},
   "outputs": [],
   "source": [
    "def get_Keywords(doc3_page):\n",
    "    Keywords_tags = doc3_page.find('section', {'class': 'keywords right_column'})\n",
    "    Keywords_list = Keywords_tags.find_all('a')\n",
    "    \n",
    "    check_Keywords = []\n",
    "    for t in Keywords_list:\n",
    "         check_Keywords.append(t.text)\n",
    "    \n",
    "    return Keywords_list"
   ]
  },
  {
   "cell_type": "code",
   "execution_count": 14,
   "metadata": {},
   "outputs": [
    {
     "name": "stdout",
     "output_type": "stream",
     "text": [
      "Wall time: 2h 11min 22s\n"
     ]
    }
   ],
   "source": [
    "%%time\n",
    "url_address = base_link\n",
    "\n",
    "dic =  cols_dict()\n",
    "for j in range(1, 501):\n",
    "    next_url = url_address + '?page={}'.format(j)\n",
    "    get_headers = {'User-Agent': \"Mozilla/5.0 (Windows NT 6.3; Win64; x64) AppleWebKit/537.36 (KHTML, like Gecko) Chrome/92.0.4515.131 Safari/537.36\"}\n",
    "    response_page = requests.get(next_url, headers = get_headers )\n",
    "    # we are going to raise exception here if status code gives any value other than 200.\n",
    "    if not response_page.ok:\n",
    "        print('page: ',j, \"Failed to request the data. Status Code:- {}\".format(response_page.status_code))\n",
    "    else:\n",
    "        page_content = response_page.text\n",
    "        doc = BeautifulSoup(page_content, \"html.parser\")\n",
    "        number_of_TVshows = len(doc.find_all('div', {'class': 'card style_1'}))\n",
    "        \n",
    "        for i in range(number_of_TVshows): \n",
    "            \n",
    "            try:\n",
    "                dic['title'].append(doc.find_all('div', {'class': 'card style_1'})[i].h2.text)\n",
    "            except AttributeError:\n",
    "                dic['title'].append('nan')\n",
    "\n",
    "            try:\n",
    "                dic['rating'].append(doc.find_all('div', {\"user_score_chart\"})[i]['data-percent'])\n",
    "            except AttributeError:\n",
    "                dic['rating'].append('nan')\n",
    "\n",
    "            try:\n",
    "                dic['release_date'].append(doc.find_all('div', {'class': 'card style_1'})[i].p.text)\n",
    "            except AttributeError:\n",
    "                dic['release_date'].append('nan')\n",
    "\n",
    "            TVshow_url = base_link[:-3] + doc.find_all('div', {'class': 'card style_1'})[i].h2.a['href']\n",
    "            TVshow_page = get_page_content(TVshow_url)\n",
    "\n",
    "            dic['genre'].append(get_genres(TVshow_page))\n",
    "            dic['cast'].append(get_cast(TVshow_page))\n",
    "            dic['Keywords'].append(get_Keywords(TVshow_page))\n",
    "\n",
    "            try:\n",
    "                dic['runtime'].append(TVshow_page.find('span', {'class': 'runtime'}).text[16:-12])\n",
    "            except AttributeError:\n",
    "                dic['runtime'].append('nan')\n",
    "\n",
    "            try:\n",
    "                dic['current_season'].append(TVshow_page.find_all('div' , {'class': 'flex'})[1].h2.text)\n",
    "            except (AttributeError, IndexError):\n",
    "                dic['current_season'].append('nan')\n",
    "\n",
    "            try:\n",
    "                dic['current_season_Episodes'].append(TVshow_page.find_all('div' , {'class': 'flex'})[1].h4.text[7:])\n",
    "            except (AttributeError, IndexError):\n",
    "                dic['current_season_Episodes'].append('nan')\n",
    "\n",
    "            try:\n",
    "                dic['language'].append(TVshow_page.find('section', {\"class\": \"facts left_column\"}).select(\"p:nth-of-type(4)\")[0].text)\n",
    "            except AttributeError:\n",
    "                dic['language'].append('nan')\n",
    "\n",
    "            try:\n",
    "                dic['director'].append(TVshow_page.find('li', {'class':'profile'}).a.get_text())\n",
    "            except AttributeError:\n",
    "                dic['director'].append('nan')\n",
    "                \n",
    "            try:\n",
    "                dic['type'].append(TVshow_page.find('section', {\"class\": \"facts left_column\"}).select(\"p:nth-of-type(3)\")[0].text)\n",
    "            except AttributeError:\n",
    "                dic['type'].append('nan')\n",
    "            \n",
    "            "
   ]
  },
  {
   "cell_type": "code",
   "execution_count": 15,
   "metadata": {},
   "outputs": [],
   "source": [
    "df = pd.DataFrame({k:pd.Series(v) for k,v in dic.items()})"
   ]
  },
  {
   "cell_type": "code",
   "execution_count": 26,
   "metadata": {},
   "outputs": [
    {
     "data": {
      "text/plain": [
       "(500, 19)"
      ]
     },
     "execution_count": 26,
     "metadata": {},
     "output_type": "execute_result"
    }
   ],
   "source": [
    "j,i"
   ]
  },
  {
   "cell_type": "code",
   "execution_count": 18,
   "metadata": {},
   "outputs": [
    {
     "name": "stdout",
     "output_type": "stream",
     "text": [
      "<class 'pandas.core.frame.DataFrame'>\n",
      "RangeIndex: 10000 entries, 0 to 9999\n",
      "Data columns (total 12 columns):\n",
      " #   Column                   Non-Null Count  Dtype \n",
      "---  ------                   --------------  ----- \n",
      " 0   title                    10000 non-null  object\n",
      " 1   rating                   10000 non-null  object\n",
      " 2   release_date             10000 non-null  object\n",
      " 3   language                 10000 non-null  object\n",
      " 4   current_season           10000 non-null  object\n",
      " 5   current_season_Episodes  10000 non-null  object\n",
      " 6   runtime                  10000 non-null  object\n",
      " 7   director                 10000 non-null  object\n",
      " 8   genre                    10000 non-null  object\n",
      " 9   cast                     10000 non-null  object\n",
      " 10  Keywords                 10000 non-null  object\n",
      " 11  type                     10000 non-null  object\n",
      "dtypes: object(12)\n",
      "memory usage: 937.6+ KB\n"
     ]
    }
   ],
   "source": [
    "df.info()"
   ]
  },
  {
   "cell_type": "code",
   "execution_count": 19,
   "metadata": {},
   "outputs": [],
   "source": [
    "df.to_csv('tv_all.csv', index =False)"
   ]
  },
  {
   "cell_type": "code",
   "execution_count": 21,
   "metadata": {},
   "outputs": [
    {
     "data": {
      "text/plain": [
       "(10000, 12)"
      ]
     },
     "execution_count": 21,
     "metadata": {},
     "output_type": "execute_result"
    }
   ],
   "source": [
    "df_01 = pd.read_csv('tv_all.csv')\n",
    "df_01.shape"
   ]
  },
  {
   "cell_type": "code",
   "execution_count": 25,
   "metadata": {},
   "outputs": [
    {
     "data": {
      "text/html": [
       "<div>\n",
       "<style scoped>\n",
       "    .dataframe tbody tr th:only-of-type {\n",
       "        vertical-align: middle;\n",
       "    }\n",
       "\n",
       "    .dataframe tbody tr th {\n",
       "        vertical-align: top;\n",
       "    }\n",
       "\n",
       "    .dataframe thead th {\n",
       "        text-align: right;\n",
       "    }\n",
       "</style>\n",
       "<table border=\"1\" class=\"dataframe\">\n",
       "  <thead>\n",
       "    <tr style=\"text-align: right;\">\n",
       "      <th></th>\n",
       "      <th>title</th>\n",
       "      <th>rating</th>\n",
       "      <th>release_date</th>\n",
       "      <th>language</th>\n",
       "      <th>current_season</th>\n",
       "      <th>current_season_Episodes</th>\n",
       "      <th>runtime</th>\n",
       "      <th>director</th>\n",
       "      <th>genre</th>\n",
       "      <th>cast</th>\n",
       "      <th>Keywords</th>\n",
       "      <th>type</th>\n",
       "    </tr>\n",
       "  </thead>\n",
       "  <tbody>\n",
       "    <tr>\n",
       "      <th>0</th>\n",
       "      <td>Peacemaker</td>\n",
       "      <td>86.0</td>\n",
       "      <td>Jan 13, 2022</td>\n",
       "      <td>Original Language English</td>\n",
       "      <td>Season 1</td>\n",
       "      <td>8 Episodes</td>\n",
       "      <td>46m</td>\n",
       "      <td>James Gunn</td>\n",
       "      <td>['Action &amp; Adventure', 'Comedy', 'Sci-Fi &amp; Fan...</td>\n",
       "      <td>['John Cena', 'Danielle Brooks', 'Freddie Stro...</td>\n",
       "      <td>[&lt;a class=\"rounded\" href=\"/keyword/9715-superh...</td>\n",
       "      <td>Type Scripted</td>\n",
       "    </tr>\n",
       "    <tr>\n",
       "      <th>1</th>\n",
       "      <td>Euphoria</td>\n",
       "      <td>84.0</td>\n",
       "      <td>Jun 16, 2019</td>\n",
       "      <td>Original Language English</td>\n",
       "      <td>Season 2</td>\n",
       "      <td>6 Episodes</td>\n",
       "      <td>1h</td>\n",
       "      <td>Sam Levinson</td>\n",
       "      <td>['Drama']</td>\n",
       "      <td>['Zendaya', 'Hunter Schafer', 'Jacob Elordi', ...</td>\n",
       "      <td>[&lt;a class=\"rounded\" href=\"/keyword/6270-high-s...</td>\n",
       "      <td>Type Scripted</td>\n",
       "    </tr>\n",
       "    <tr>\n",
       "      <th>2</th>\n",
       "      <td>The Book of Boba Fett</td>\n",
       "      <td>81.0</td>\n",
       "      <td>Dec 29, 2021</td>\n",
       "      <td>Original Language English</td>\n",
       "      <td>Season 1</td>\n",
       "      <td>7 Episodes</td>\n",
       "      <td>39m</td>\n",
       "      <td>Jon Favreau</td>\n",
       "      <td>['Action &amp; Adventure', 'Sci-Fi &amp; Fantasy']</td>\n",
       "      <td>['Temuera Morrison', 'Ming-Na Wen', 'Matt Berr...</td>\n",
       "      <td>[&lt;a class=\"rounded\" href=\"/keyword/801-bounty-...</td>\n",
       "      <td>Type Scripted</td>\n",
       "    </tr>\n",
       "    <tr>\n",
       "      <th>3</th>\n",
       "      <td>Big Brother</td>\n",
       "      <td>95.0</td>\n",
       "      <td>Jan 04, 2021</td>\n",
       "      <td>Original Language Dutch; Flemish</td>\n",
       "      <td>Season 2</td>\n",
       "      <td>24 Episodes</td>\n",
       "      <td>50m</td>\n",
       "      <td>NaN</td>\n",
       "      <td>['Reality']</td>\n",
       "      <td>['Peter Van De Veire', 'Geraldine Kemper']</td>\n",
       "      <td>[]</td>\n",
       "      <td>Type Reality</td>\n",
       "    </tr>\n",
       "    <tr>\n",
       "      <th>4</th>\n",
       "      <td>Big Brother 7/7</td>\n",
       "      <td>58.0</td>\n",
       "      <td>Jan 11, 2021</td>\n",
       "      <td>Original Language French</td>\n",
       "      <td>Season 2</td>\n",
       "      <td>21 Episodes</td>\n",
       "      <td>46m</td>\n",
       "      <td>NaN</td>\n",
       "      <td>['Reality']</td>\n",
       "      <td>['Marie-Mai', 'Emmanuel Auger', 'Rita Baga', '...</td>\n",
       "      <td>[&lt;a class=\"rounded\" href=\"/keyword/6562-celebr...</td>\n",
       "      <td>Type Reality</td>\n",
       "    </tr>\n",
       "  </tbody>\n",
       "</table>\n",
       "</div>"
      ],
      "text/plain": [
       "                   title  rating  release_date  \\\n",
       "0             Peacemaker    86.0  Jan 13, 2022   \n",
       "1               Euphoria    84.0  Jun 16, 2019   \n",
       "2  The Book of Boba Fett    81.0  Dec 29, 2021   \n",
       "3            Big Brother    95.0  Jan 04, 2021   \n",
       "4        Big Brother 7/7    58.0  Jan 11, 2021   \n",
       "\n",
       "                           language current_season current_season_Episodes  \\\n",
       "0         Original Language English       Season 1              8 Episodes   \n",
       "1         Original Language English       Season 2              6 Episodes   \n",
       "2         Original Language English       Season 1              7 Episodes   \n",
       "3  Original Language Dutch; Flemish       Season 2             24 Episodes   \n",
       "4          Original Language French       Season 2             21 Episodes   \n",
       "\n",
       "  runtime      director                                              genre  \\\n",
       "0     46m    James Gunn  ['Action & Adventure', 'Comedy', 'Sci-Fi & Fan...   \n",
       "1      1h  Sam Levinson                                          ['Drama']   \n",
       "2     39m   Jon Favreau         ['Action & Adventure', 'Sci-Fi & Fantasy']   \n",
       "3     50m           NaN                                        ['Reality']   \n",
       "4     46m           NaN                                        ['Reality']   \n",
       "\n",
       "                                                cast  \\\n",
       "0  ['John Cena', 'Danielle Brooks', 'Freddie Stro...   \n",
       "1  ['Zendaya', 'Hunter Schafer', 'Jacob Elordi', ...   \n",
       "2  ['Temuera Morrison', 'Ming-Na Wen', 'Matt Berr...   \n",
       "3         ['Peter Van De Veire', 'Geraldine Kemper']   \n",
       "4  ['Marie-Mai', 'Emmanuel Auger', 'Rita Baga', '...   \n",
       "\n",
       "                                            Keywords           type  \n",
       "0  [<a class=\"rounded\" href=\"/keyword/9715-superh...  Type Scripted  \n",
       "1  [<a class=\"rounded\" href=\"/keyword/6270-high-s...  Type Scripted  \n",
       "2  [<a class=\"rounded\" href=\"/keyword/801-bounty-...  Type Scripted  \n",
       "3                                                 []   Type Reality  \n",
       "4  [<a class=\"rounded\" href=\"/keyword/6562-celebr...   Type Reality  "
      ]
     },
     "execution_count": 25,
     "metadata": {},
     "output_type": "execute_result"
    }
   ],
   "source": [
    "df_01.head()"
   ]
  },
  {
   "cell_type": "code",
   "execution_count": null,
   "metadata": {},
   "outputs": [],
   "source": []
  }
 ],
 "metadata": {
  "kernelspec": {
   "display_name": "Python 3",
   "language": "python",
   "name": "python3"
  },
  "language_info": {
   "codemirror_mode": {
    "name": "ipython",
    "version": 3
   },
   "file_extension": ".py",
   "mimetype": "text/x-python",
   "name": "python",
   "nbconvert_exporter": "python",
   "pygments_lexer": "ipython3",
   "version": "3.8.8"
  },
  "toc": {
   "base_numbering": 1,
   "nav_menu": {},
   "number_sections": true,
   "sideBar": true,
   "skip_h1_title": false,
   "title_cell": "Table of Contents",
   "title_sidebar": "Contents",
   "toc_cell": false,
   "toc_position": {},
   "toc_section_display": true,
   "toc_window_display": false
  }
 },
 "nbformat": 4,
 "nbformat_minor": 4
}
